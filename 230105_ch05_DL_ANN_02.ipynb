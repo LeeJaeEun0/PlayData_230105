{
  "nbformat": 4,
  "nbformat_minor": 0,
  "metadata": {
    "colab": {
      "provenance": [],
      "authorship_tag": "ABX9TyM3plxH2yc9dFacDKMyK2K1",
      "include_colab_link": true
    },
    "kernelspec": {
      "name": "python3",
      "display_name": "Python 3"
    },
    "language_info": {
      "name": "python"
    }
  },
  "cells": [
    {
      "cell_type": "markdown",
      "metadata": {
        "id": "view-in-github",
        "colab_type": "text"
      },
      "source": [
        "<a href=\"https://colab.research.google.com/github/LeeJaeEun0/st230105/blob/main/230105_ch05_DL_ANN_02.ipynb\" target=\"_parent\"><img src=\"https://colab.research.google.com/assets/colab-badge.svg\" alt=\"Open In Colab\"/></a>"
      ]
    },
    {
      "cell_type": "markdown",
      "source": [
        "# 신경망 모델 구현하기"
      ],
      "metadata": {
        "id": "UTyK0Q7lyNr4"
      }
    },
    {
      "cell_type": "markdown",
      "source": [
        "## 인공 신경망 (ANN)\n",
        "artificial neural network, ANN\n"
      ],
      "metadata": {
        "id": "ZPZ4dAO3yRIQ"
      }
    },
    {
      "cell_type": "markdown",
      "source": [
        "* 인간의 신경계의 작동 방식에서 영감을 받음\n",
        "    * 자극 → (감각 기관) → (신경 세포 1) → (신경 세포 2) → ... \n",
        "* 입력층 input layer : 자극을 입력받는 감각기관에 해당\n",
        "* 은닉층 hidden layer (혹은 중간층) : 입력층을 거친 자극이 지나가는 곳\n",
        "* 출력층 output layer : 마지막으로 전달되는 뉴런\n",
        "* 각 층에 존재하는 한 단위의 인공 뉴런을 노드 node 라고 함\n",
        "![인공신경망](https://github.com/bigdata-young/ai_26th/raw/main/img/dl_01_03.jpg)\n",
        "\n",
        "\n",
        "\n",
        "* 병원에서 각 층별 원무과 등등"
      ],
      "metadata": {
        "id": "7vKl-rWByexu"
      }
    },
    {
      "cell_type": "markdown",
      "source": [
        "* 인공 신경망의 각 노드는 입력된 자극에 특정한 수학 연산을 실행\n",
        "* 각 층에 존재하는 매개변수인 가중치 weight 에 행렬곱시키고 편향 bias 를 더해줌\n",
        "    * **가중치** : 입력 신호가 출력에 주는 영향을 계산하는 매개변수\n",
        "    * **편향** : 각 노드가 얼마나 데이터에 민감한지 알려주는 매개변수\n",
        "* 이 행렬곱의 결과는 활성화 함수 activation function 을 거쳐 인공뉴런의 결괏값을 산출하게 됨\n",
        "    * **활성화 함수** : 입력에 적절한 처리를 해서 출력 신호로 변환하는 함수\n",
        "    * 입력 신호의 합이 활성화를 일으키는지 아닌지(얼마나 출력할지)를 정하는 역할\n",
        "\n",
        "![가중치, 편향, 활성화 함수](https://github.com/bigdata-young/ai_26th/raw/main/img/dl_01_04.jpg)\n"
      ],
      "metadata": {
        "id": "04TfBUPhzohW"
      }
    },
    {
      "cell_type": "markdown",
      "source": [
        "* 노드를 통해 나온 결괏값은 이어지는 은닉층의 인공뉴런으로 전달되고, 가중치 곱 & 활성화 함수를 거치게 됨\n",
        "\n",
        "> 이러한 뉴런 간의 자극 처리와 전달 과정을 몇 겹에 걸쳐 반복한 후 마지막 출력층에서 결괏값을 만들어내는 것\n",
        "\n",
        "* 인공 신경망의 출력층이 낸 **결괏값과 정답을 비교해 오차**를 계산해야 함\n",
        "* 이 오차를 기반으로 신경망 전체를 학습시키려면 출력층이 가중치부터 입력층의 가중치까지 모두 경사하강법을 활용해 변경해줘야 함\n",
        "* 이렇게 겹겹이 쌓인 가중치를 뒤에서부터 차례대로 조정하고 최적화하는 알고리즘 = 역전파 Backpropagation 알고리즘 (오차역전파)\n",
        "---\n",
        "* https://youtu.be/p9M0A1VBUpM\n",
        "* https://youtu.be/1Q_etC_GHHk\n",
        "* https://youtu.be/573EZkzfnZ0"
      ],
      "metadata": {
        "id": "lLH9IaVS0xx1"
      }
    },
    {
      "cell_type": "markdown",
      "source": [
        "# 간단한 분류 모델 구현"
      ],
      "metadata": {
        "id": "zBjDCKun6GXM"
      }
    },
    {
      "cell_type": "code",
      "execution_count": null,
      "metadata": {
        "id": "Vtfw4JwLRsfo"
      },
      "outputs": [],
      "source": [
        "# 신경망의 학습과 평가에 사용할 데이터셋 만들기\n",
        "from sklearn.datasets import make_blobs\n",
        "# make_blobs() 데이터를 2차원 벡터 형태로 만든 데이터셋을 형성"
      ]
    },
    {
      "cell_type": "code",
      "source": [
        "n_dim = 2 # 차원\n",
        "# 좌표값 / 분류.라벨.정답값\n",
        "# Train\n",
        "x_train, y_train = make_blobs(\n",
        "    random_state=100,\n",
        "    n_samples=80, # 추출할(생성할) 샘플(데이터) 갯수\n",
        "    n_features=n_dim, # 차원의 수 (특성 갯수)\n",
        "    centers=[[1, 1], [-1, -1], [1, -1], [-1, 1]], # 중심점들 (예시 : 4개)\n",
        "    shuffle=True,\n",
        "    cluster_std=0.3 # 중심점으로부터 얼마나 퍼져있을 건지 (표준편차)\n",
        ")\n",
        "# → 인덱스를 생성해주는 함수. (0, 1, 2, 3)\n",
        "# → 각 데이터 한 점 한 점이 몇 번째 클러스터에 속해 있는지 알려주는 인덱스\n",
        "# x (좌표), y(인덱스->몇번째 클러스터에 속해있는지)\n",
        "# Test\n",
        "x_test, y_test = make_blobs(\n",
        "    random_state=100,\n",
        "    n_samples=20, # 추출할(생성할) 샘플(데이터) 갯수\n",
        "    n_features=n_dim, # 차원의 수 (특성 갯수)\n",
        "    centers=[[1, 1], [-1, -1], [1, -1], [-1, 1]], # 중심점들 (예시 : 4개)\n",
        "    shuffle=True,\n",
        "    cluster_std=0.3 # 중심점으로부터 얼마나 퍼져있을 건지 (표준편차)\n",
        ")\n",
        "# 훈련 데이터 (학습 데이터) 80개 / 시험 데이터 20개"
      ],
      "metadata": {
        "id": "9ZhoBKB3yc9K"
      },
      "execution_count": null,
      "outputs": []
    },
    {
      "cell_type": "code",
      "source": [
        "x_train"
      ],
      "metadata": {
        "colab": {
          "base_uri": "https://localhost:8080/"
        },
        "id": "iJhGSDBe73UV",
        "outputId": "fc789d5d-1961-48f4-b0a1-45dd820620fc"
      },
      "execution_count": null,
      "outputs": [
        {
          "output_type": "execute_result",
          "data": {
            "text/plain": [
              "array([[ 0.90212858,  1.0167028 ],\n",
              "       [ 0.94449577, -1.74614546],\n",
              "       [-0.31040382,  0.95043713],\n",
              "       [-0.67189401,  0.93114467],\n",
              "       [-1.2586682 , -0.62515908],\n",
              "       [-0.99780563, -1.18388162],\n",
              "       [-1.42451288,  0.80777202],\n",
              "       [ 0.94315125,  1.07650043],\n",
              "       [ 1.34591074,  0.92426919],\n",
              "       [-0.86011019,  1.08099617],\n",
              "       [ 0.82635225, -1.35983536],\n",
              "       [-0.71529857,  0.99418072],\n",
              "       [-1.36517624,  0.95282045],\n",
              "       [-1.29499303, -0.89274767],\n",
              "       [ 0.48860464, -1.3408783 ],\n",
              "       [-1.55235649, -0.89017203],\n",
              "       [ 1.20181624,  0.96867666],\n",
              "       [-0.81608834, -0.77913844],\n",
              "       [ 1.09521039, -1.22572425],\n",
              "       [-0.61112122,  1.28568269],\n",
              "       [-1.02388337, -1.26691944],\n",
              "       [ 1.20703644, -0.79393298],\n",
              "       [-0.7758833 ,  1.12890293],\n",
              "       [ 1.03972834, -0.99333582],\n",
              "       [-0.94212484,  0.89546232],\n",
              "       [-0.76611211,  0.86856373],\n",
              "       [-1.09953314, -1.20676539],\n",
              "       [ 0.61108246, -0.97145817],\n",
              "       [ 0.86855931,  0.66450453],\n",
              "       [ 0.9253334 , -1.13505293],\n",
              "       [ 1.2193001 ,  1.40846684],\n",
              "       [ 0.8903614 , -1.38130691],\n",
              "       [ 1.29439624,  1.15426565],\n",
              "       [ 0.87288547, -1.35579507],\n",
              "       [-1.09594931,  0.65567752],\n",
              "       [-1.18498881,  1.22895509],\n",
              "       [-1.45227555,  1.03236524],\n",
              "       [-1.4190998 ,  0.6708484 ],\n",
              "       [-0.61007558, -1.51992869],\n",
              "       [-1.07161386,  0.57127993],\n",
              "       [-0.69192357, -1.42965718],\n",
              "       [ 1.0326616 , -0.99151491],\n",
              "       [ 0.8625919 ,  1.13054905],\n",
              "       [ 0.77309431,  1.2449362 ],\n",
              "       [-1.48407355, -0.55878584],\n",
              "       [-1.44931611,  0.64183421],\n",
              "       [-0.4889128 ,  0.78335477],\n",
              "       [-1.49065882, -1.31326296],\n",
              "       [-0.825828  , -1.33135693],\n",
              "       [-0.38961773, -1.16521432],\n",
              "       [-0.73162069,  1.22790794],\n",
              "       [ 1.23364672, -0.87153014],\n",
              "       [-0.96734096, -0.84765712],\n",
              "       [ 1.35688668,  0.49281495],\n",
              "       [ 1.56297203, -1.11307101],\n",
              "       [-1.26453952, -0.99440832],\n",
              "       [ 0.10800536, -0.99000482],\n",
              "       [ 0.47507036,  1.10280412],\n",
              "       [ 0.84061589,  1.30891981],\n",
              "       [ 1.47585128, -0.7919828 ],\n",
              "       [ 1.05535561,  1.28112466],\n",
              "       [ 0.52999374, -0.72850776],\n",
              "       [-0.37756205,  0.8970107 ],\n",
              "       [-1.28201385, -1.24837971],\n",
              "       [ 0.82492148,  1.24505412],\n",
              "       [ 0.97719296, -0.99881272],\n",
              "       [ 0.92443626,  0.74726928],\n",
              "       [ 0.41257563, -1.04044039],\n",
              "       [ 1.0663539 ,  0.678987  ],\n",
              "       [-1.16333175, -1.20045152],\n",
              "       [ 0.59308029,  0.63026965],\n",
              "       [ 1.06671988,  0.5670349 ],\n",
              "       [ 1.22513343,  0.86321592],\n",
              "       [-1.46218481,  1.61401419],\n",
              "       [-0.774864  , -1.3920977 ],\n",
              "       [ 1.4856945 ,  1.46248155],\n",
              "       [-0.92864661, -0.99593544],\n",
              "       [-1.35640528, -1.16492386],\n",
              "       [ 0.4882144 , -0.88925081],\n",
              "       [ 1.54958082, -0.99909477]])"
            ]
          },
          "metadata": {},
          "execution_count": 20
        }
      ]
    },
    {
      "cell_type": "code",
      "source": [
        "y_train # 라벨이 0,1,2,3 => 4종류 "
      ],
      "metadata": {
        "colab": {
          "base_uri": "https://localhost:8080/"
        },
        "id": "g3Crrbtu757j",
        "outputId": "03603ac3-a365-4557-c155-38db5b5102bf"
      },
      "execution_count": null,
      "outputs": [
        {
          "output_type": "execute_result",
          "data": {
            "text/plain": [
              "array([0, 2, 3, 3, 1, 1, 3, 0, 0, 3, 2, 3, 3, 1, 2, 1, 0, 1, 2, 3, 1, 2,\n",
              "       3, 2, 3, 3, 1, 2, 0, 2, 0, 2, 0, 2, 3, 3, 3, 3, 1, 3, 1, 2, 0, 0,\n",
              "       1, 3, 3, 1, 1, 1, 3, 2, 1, 0, 2, 1, 2, 0, 0, 2, 0, 2, 3, 1, 0, 2,\n",
              "       0, 2, 0, 1, 0, 0, 0, 3, 1, 0, 1, 1, 2, 2])"
            ]
          },
          "metadata": {},
          "execution_count": 21
        }
      ]
    },
    {
      "cell_type": "code",
      "source": [
        "x_test"
      ],
      "metadata": {
        "colab": {
          "base_uri": "https://localhost:8080/"
        },
        "id": "G6BxsVg28JhX",
        "outputId": "fc2a8b12-56fb-49da-9362-5d0571046064"
      },
      "execution_count": null,
      "outputs": [
        {
          "output_type": "execute_result",
          "data": {
            "text/plain": [
              "array([[-1.40691971,  0.63026965],\n",
              "       [-1.15938411, -0.69108019],\n",
              "       [ 1.0663539 ,  0.678987  ],\n",
              "       [-0.77486657,  0.86321592],\n",
              "       [ 0.47507036,  1.10280412],\n",
              "       [-1.13144069, -1.33549547],\n",
              "       [ 0.90212858, -0.9832972 ],\n",
              "       [ 1.05535561, -0.71887534],\n",
              "       [ 1.34591074,  0.92426919],\n",
              "       [-1.22690569,  1.2449362 ],\n",
              "       [ 1.2193001 , -0.59153316],\n",
              "       [-0.64311332,  0.49281495],\n",
              "       [ 1.4856945 , -0.53751845],\n",
              "       [ 1.29439624,  1.15426565],\n",
              "       [-0.93328012,  0.5670349 ],\n",
              "       [-1.17507852, -0.75494588],\n",
              "       [-0.79818376, -1.03132334],\n",
              "       [-1.1374081 , -0.86945095],\n",
              "       [ 0.94315125,  1.07650043],\n",
              "       [ 0.92443626, -1.25273072]])"
            ]
          },
          "metadata": {},
          "execution_count": 22
        }
      ]
    },
    {
      "cell_type": "code",
      "source": [
        "y_test"
      ],
      "metadata": {
        "colab": {
          "base_uri": "https://localhost:8080/"
        },
        "id": "l-Q7k66a8KxG",
        "outputId": "999b076c-fe17-4e4b-ab7c-8bb499b6a859"
      },
      "execution_count": null,
      "outputs": [
        {
          "output_type": "execute_result",
          "data": {
            "text/plain": [
              "array([3, 1, 0, 3, 0, 1, 2, 2, 0, 3, 2, 3, 2, 0, 3, 1, 1, 1, 0, 2])"
            ]
          },
          "metadata": {},
          "execution_count": 23
        }
      ]
    },
    {
      "cell_type": "code",
      "source": [
        "import numpy as np\n",
        "\n",
        "# 이번에는 이진분류를 할 모델이기 때문에 레이블 합치기\n",
        "def label_map(y_, from_, to_):\n",
        "    y = np.copy(y_) # 얕은 복사 상태라서 y_의 원본에 영향을 미치지 않기 위해 copy로 깊은 복사\n",
        "    # y 복사본\n",
        "    for f in from_: # from_ : 리스트 : 0, 1 -> for문으로 반복해주겠다\n",
        "        # y : numpy 배열 -> 배열[  ] -> 인덱싱 -> 조건? -> 불리언 배열 인덱싱\n",
        "        # y_ == f : `y_ (원본) 중에 f 값과 일치하는 경우` True\n",
        "        # 0 : y_ == 0 만 필터링 -> to_ -> y => 0\n",
        "        # 1 : y_ == 1 만 필터링 -> to_ -> y => 0\n",
        "        # 2 : y_ == 2 만 필터링 -> to_ -> y => 1\n",
        "        # 3 : y_ == 3 만 필터링 -> to_ -> y => 1\n",
        "        y[y_ == f] = to_\n",
        "    return y\n",
        "\n",
        "y_train = label_map(y_train, [0, 1], 0)\n",
        "y_train = label_map(y_train, [2, 3], 1)\n",
        "y_test = label_map(y_test, [0, 1], 0)\n",
        "y_test = label_map(y_test, [2, 3], 1)"
      ],
      "metadata": {
        "id": "sUhslk6_8MHu"
      },
      "execution_count": null,
      "outputs": []
    },
    {
      "cell_type": "code",
      "source": [
        "y_train"
      ],
      "metadata": {
        "colab": {
          "base_uri": "https://localhost:8080/"
        },
        "id": "9izpb9rq8ccj",
        "outputId": "8b842d92-a6a0-4ac1-8331-89d19ae32739"
      },
      "execution_count": null,
      "outputs": [
        {
          "output_type": "execute_result",
          "data": {
            "text/plain": [
              "array([0, 1, 1, 1, 0, 0, 1, 0, 0, 1, 1, 1, 1, 0, 1, 0, 0, 0, 1, 1, 0, 1,\n",
              "       1, 1, 1, 1, 0, 1, 0, 1, 0, 1, 0, 1, 1, 1, 1, 1, 0, 1, 0, 1, 0, 0,\n",
              "       0, 1, 1, 0, 0, 0, 1, 1, 0, 0, 1, 0, 1, 0, 0, 1, 0, 1, 1, 0, 0, 1,\n",
              "       0, 1, 0, 0, 0, 0, 0, 1, 0, 0, 0, 0, 1, 1])"
            ]
          },
          "metadata": {},
          "execution_count": 25
        }
      ]
    },
    {
      "cell_type": "code",
      "source": [
        "y_test"
      ],
      "metadata": {
        "colab": {
          "base_uri": "https://localhost:8080/"
        },
        "id": "j9b4XPEr93xM",
        "outputId": "6ed73c92-da06-47a4-8fd2-3c376bb4e5f7"
      },
      "execution_count": null,
      "outputs": [
        {
          "output_type": "execute_result",
          "data": {
            "text/plain": [
              "array([1, 0, 0, 1, 0, 0, 1, 1, 0, 1, 1, 1, 1, 0, 1, 0, 0, 0, 0, 1])"
            ]
          },
          "metadata": {},
          "execution_count": 26
        }
      ]
    },
    {
      "cell_type": "code",
      "source": [
        "import matplotlib.pyplot as plt\n",
        "\n",
        "# 시각화\n",
        "def vis_data(x,y = None, c = 'r'):\n",
        "    if y is None:\n",
        "        y = [None] * len(x)\n",
        "    for x_, y_ in zip(x,y):\n",
        "        if y_ is None:\n",
        "            plt.plot(x_[0], x_[1], '*',markerfacecolor='none', markeredgecolor=c)\n",
        "        else:\n",
        "            plt.plot(x_[0], x_[1], c+'o' if y_ == 0 else c+'+')\n",
        "\n",
        "plt.figure()\n",
        "vis_data(x_train, y_train, c='r')\n",
        "plt.show()"
      ],
      "metadata": {
        "colab": {
          "base_uri": "https://localhost:8080/",
          "height": 265
        },
        "id": "H9oUOV5w95Da",
        "outputId": "cd3aef77-56a8-4c87-94f4-784b912f497c"
      },
      "execution_count": null,
      "outputs": [
        {
          "output_type": "display_data",
          "data": {
            "text/plain": [
              "<Figure size 432x288 with 1 Axes>"
            ],
            "image/png": "[encoded data removed]"
          },
          "metadata": {
            "needs_background": "light"
          }
        }
      ]
    },
    {
      "cell_type": "markdown",
      "source": [
        "![image.png](data:image/png;base64,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)"
      ],
      "metadata": {
        "id": "y84rYj0L-S9j"
      }
    },
    {
      "cell_type": "code",
      "source": [
        "import matplotlib.pyplot as plt\n",
        "\n",
        "# 시각화\n",
        "def vis_data(x,y = None, c = 'r'):\n",
        "    if y is None:\n",
        "        y = [None] * len(x)\n",
        "    for x_, y_ in zip(x,y): # zip -> 같은 크기의 연속된 리스트를 같이 반복시켜줄 수 있는 기능\n",
        "        # 같은 번의 x, y 배열의 원소들 x_, y_\n",
        "        if y_ is None:\n",
        "            plt.plot(x_[0], x_[1], '*',markerfacecolor='none', markeredgecolor=c)\n",
        "        else: # x_[0] x좌표(가로), x_[1] y좌표(세로)\n",
        "            # c+'o' if y_ == 0 else c+'+'\n",
        "            # y_ == 0 이라면 c에다가 이어서 점을 의미하는 'o' 붙여달라\n",
        "            # 아니면 (y_ == 1) c... + 모양을 의미하는 '+' 붙여라\n",
        "            plt.plot(x_[0], x_[1], c+'o' if y_ == 0 else c+'+') \n",
        "            # 그래프에서 점인 경우와 플러스로 나눠진 이유를 알 수 있음\n",
        "\n",
        "plt.figure()\n",
        "# vis_data(x_train, y_train, c='r')\n",
        "vis_data(x_train, y_train, c='b')\n",
        "plt.show()"
      ],
      "metadata": {
        "colab": {
          "base_uri": "https://localhost:8080/",
          "height": 265
        },
        "id": "haAXqG9K96kz",
        "outputId": "6d13fe2b-9f34-45b5-f311-6267bf2d4226"
      },
      "execution_count": null,
      "outputs": [
        {
          "output_type": "display_data",
          "data": {
            "text/plain": [
              "<Figure size 432x288 with 1 Axes>"
            ],
            "image/png": "[encoded data removed]"
          },
          "metadata": {
            "needs_background": "light"
          }
        }
      ]
    },
    {
      "cell_type": "code",
      "source": [
        "# 벡터 → 텐서\n",
        "import torch\n",
        "\n",
        "x_train = torch.FloatTensor(x_train) # Numpy 배열 -> torch Tensor\n",
        "print(x_train.shape)\n",
        "x_test = torch.FloatTensor(x_test)\n",
        "y_train = torch.FloatTensor(y_train)\n",
        "y_test = torch.FloatTensor(y_test)"
      ],
      "metadata": {
        "colab": {
          "base_uri": "https://localhost:8080/"
        },
        "id": "VN2qRsum9_0f",
        "outputId": "058063bf-12bb-43c7-aa0e-feb566685124"
      },
      "execution_count": null,
      "outputs": [
        {
          "output_type": "stream",
          "name": "stdout",
          "text": [
            "torch.Size([80, 2])\n"
          ]
        }
      ]
    },
    {
      "cell_type": "code",
      "source": [
        "# 신경망 모델을 구현\n",
        "# 파이토치에서는 신경망을 클래스로 구현\n",
        "# 파이토치 -> 모듈, 이미 기본적인 설계도 구현\n",
        "# torch.nn.Module -> 상속\n",
        "class NeuralNet: # 클래스 이름\n",
        "  def hello_word(self): #  # 클래스에 들어갈 기능 이름(self, ..):\n",
        "    print('hello my name is NeuralNet')\n",
        "\n",
        "nn= NeuralNet() # 클래스 이름 => 생성자 -> 특정한 변수에 클래스를 통해 생성된 객체를 할당\n",
        "nn.hello_word() # 클래스가 가진 기능(메소드), 특성 또는 변수(프로퍼티)"
      ],
      "metadata": {
        "colab": {
          "base_uri": "https://localhost:8080/"
        },
        "id": "qgbjz9bZ_TxR",
        "outputId": "5a2690cb-f79e-43ad-95c8-941d7501298a"
      },
      "execution_count": null,
      "outputs": [
        {
          "output_type": "stream",
          "name": "stdout",
          "text": [
            "hello my name is NeuralNet\n"
          ]
        }
      ]
    },
    {
      "cell_type": "code",
      "source": [
        "class Grandpa:\n",
        "  def __init__(self): #  자동 생성\n",
        "    self.company = '순양'\n",
        "\n",
        "a = Grandpa()\n",
        "a.company"
      ],
      "metadata": {
        "colab": {
          "base_uri": "https://localhost:8080/",
          "height": 35
        },
        "id": "Lj918VvtAenW",
        "outputId": "62486c47-fb23-42f0-d1d2-98131a581be9"
      },
      "execution_count": null,
      "outputs": [
        {
          "output_type": "execute_result",
          "data": {
            "text/plain": [
              "'순양'"
            ],
            "application/vnd.google.colaboratory.intrinsic+json": {
              "type": "string"
            }
          },
          "metadata": {},
          "execution_count": 33
        }
      ]
    },
    {
      "cell_type": "code",
      "source": [
        "class Grandma:\n",
        "  def __init__(self, company): #  자동 생성\n",
        "    self.company = company\n",
        "\n",
        "b = Grandma('삼성')\n",
        "b.company"
      ],
      "metadata": {
        "colab": {
          "base_uri": "https://localhost:8080/",
          "height": 35
        },
        "id": "qq7lRZgDBTcl",
        "outputId": "3c477d4e-4f4d-48cf-b081-65a029ef7aad"
      },
      "execution_count": null,
      "outputs": [
        {
          "output_type": "execute_result",
          "data": {
            "text/plain": [
              "'삼성'"
            ],
            "application/vnd.google.colaboratory.intrinsic+json": {
              "type": "string"
            }
          },
          "metadata": {},
          "execution_count": 34
        }
      ]
    },
    {
      "cell_type": "code",
      "source": [
        "class Grandson(Grandpa): # 상속 받고 싶은 클래스를 옆에 괄호에 넣어줌\n",
        "  def __init__(self):\n",
        "    super(Grandson, self).__init__()\n",
        "c=Grandson()\n",
        "c.company"
      ],
      "metadata": {
        "colab": {
          "base_uri": "https://localhost:8080/",
          "height": 35
        },
        "id": "GIsJwQvSBodi",
        "outputId": "daadb195-c0ba-4004-91e0-44fb66a8515a"
      },
      "execution_count": null,
      "outputs": [
        {
          "output_type": "execute_result",
          "data": {
            "text/plain": [
              "'순양'"
            ],
            "application/vnd.google.colaboratory.intrinsic+json": {
              "type": "string"
            }
          },
          "metadata": {},
          "execution_count": 40
        }
      ]
    },
    {
      "cell_type": "code",
      "source": [
        "class GrandSon2(Grandma):\n",
        "    def __init__(self, company):\n",
        "        super(GrandSon2, self).__init__(company)\n",
        "\n",
        "d = GrandSon2('신세계')\n",
        "d.company"
      ],
      "metadata": {
        "colab": {
          "base_uri": "https://localhost:8080/",
          "height": 35
        },
        "id": "Q94IymRMCKUC",
        "outputId": "e8b80d6c-d83d-4184-c53e-538975209498"
      },
      "execution_count": null,
      "outputs": [
        {
          "output_type": "execute_result",
          "data": {
            "text/plain": [
              "'신세계'"
            ],
            "application/vnd.google.colaboratory.intrinsic+json": {
              "type": "string"
            }
          },
          "metadata": {},
          "execution_count": 43
        }
      ]
    },
    {
      "cell_type": "code",
      "source": [
        "class Grandpa2:\n",
        "  def __init__(self): #  자동 생성\n",
        "    self.company = '순양'\n",
        "  def say(self):\n",
        "    print(f'그게 {self.company}에 도움이 되나?')\n",
        "a = Grandpa()\n",
        "a.company"
      ],
      "metadata": {
        "colab": {
          "base_uri": "https://localhost:8080/",
          "height": 35
        },
        "id": "iDWRcrdOCbBt",
        "outputId": "d40e0ccd-407c-486e-ff45-4559e47cd8b6"
      },
      "execution_count": null,
      "outputs": [
        {
          "output_type": "execute_result",
          "data": {
            "text/plain": [
              "'순양'"
            ],
            "application/vnd.google.colaboratory.intrinsic+json": {
              "type": "string"
            }
          },
          "metadata": {},
          "execution_count": 44
        }
      ]
    },
    {
      "cell_type": "code",
      "source": [
        "class Grandson(Grandpa2): # 상속 받고 싶은 클래스를 옆에 괄호에 넣어줌\n",
        "  def __init__(self):\n",
        "    super(Grandson, self).__init__()\n",
        "c=Grandson()\n",
        "c.say() # 메소드로 작성된 형태\n",
        "c.company # 속성?으로 변수?로 지정된 형태"
      ],
      "metadata": {
        "colab": {
          "base_uri": "https://localhost:8080/",
          "height": 54
        },
        "id": "z45CtMnsC0h2",
        "outputId": "7d296a03-0609-415c-c1ec-18e00cda0a98"
      },
      "execution_count": null,
      "outputs": [
        {
          "output_type": "stream",
          "name": "stdout",
          "text": [
            "그게 순양에 도움이 되나?\n"
          ]
        },
        {
          "output_type": "execute_result",
          "data": {
            "text/plain": [
              "'순양'"
            ],
            "application/vnd.google.colaboratory.intrinsic+json": {
              "type": "string"
            }
          },
          "metadata": {},
          "execution_count": 46
        }
      ]
    },
    {
      "cell_type": "markdown",
      "source": [
        "## 신경망 모델 구현"
      ],
      "metadata": {
        "id": "J1t_2Mk9V08r"
      }
    },
    {
      "cell_type": "code",
      "source": [
        "# torch.nn.Module -> 상속 : 이미 구현된 클래스의 기능과 속성을 사용하는 것\n",
        "class NeuralNet(torch.nn.Module): # torch.nn.Module : 부모 클래스 / NeuralNet : 자식 클래스\n",
        "    # 생성자 __init__\n",
        "    # 신경망의 구조와 동작을 (부여, 결정) 정의하는 생성자를 모델 클래스(NeuralNet)에 정의(기록)\n",
        "    # __init__() : 파이썬에서 객체가 갖는 속성값을 초기화하는 역할\n",
        "    # 초기화 (initialization) : 할당된 자리에 값을 채워줌 / 어떤 값을 대입해 줌\n",
        "    # 정의 (definition) : (변수등의) 자리를 만들어 줌\n",
        "    # __init__ -> 객체가 생성되면 자동으로 호출(실행)됨\n",
        "    def __init__(self, input_size, hidden_size): # 입력층과 은닉층의 사이즈를 초기화 시 결정\n",
        "        # 이미 정의된 nn.Module 활용해서 모델을 구성\n",
        "        super(NeuralNet, self).__init__() # 생성자를 super를 통해 직접 실행해서 부모 클래스의 생성자(__init__)를 작동시킴, 반드시 필요한 부분\n",
        "        # super() 함수를 부르면 nn.Module(부모 클래스)의 속성들을 가지고 초기화\n",
        "        # ---\n",
        "        # 객체를 만들 때 input_size, hidden_size 입력\n",
        "        # input_size : 입력층 차원, hidden_size : 은닉층 차원\n",
        "        # self는 생성될 객체 그 자체를 의미\n",
        "        self.input_size = input_size # 입력할때 몇개를 입력할지\n",
        "        # self -> input_size 속성이 생성 -> __init__ 전달받은 input_size가 부여\n",
        "        self.hidden_size = hidden_size # 중간에 은닉층(넘어갈 수 있는 길의 수)\n",
        "        # self -> hidden_size 속성이 생성 -> __init__ 전달받은 hidden_size가 부여\n",
        "        # 모양 설정완료\n",
        "\n",
        "        # 인공 신경망 연산 정의 (층을 이동할 때 어떠한 계산이 일어날지)\n",
        "        # nn.Linear - 선형 회귀, 행렬곱(가중치)과 편향(bias)를 포함하는 연산\n",
        "        # 입력층 -> 입력을 받아서 은닉층으로 넘겨줄 것\n",
        "        self.linear_1 = torch.nn.Linear(self.input_size, self.hidden_size)\n",
        "        # 들어올 크기 -> 나갈 크기\n",
        "        self.relu = torch.nn.ReLU() # 활성화 함수 - 층에서 다른 층으로 넘어갈때 넘길까? 말까? 고민\n",
        "        # linear_1 층을 통해서 -> 가중치 계산 -> relu 필터링 (0보다 작으면 0, 그보다 크면 그대로)\n",
        "        # 은닉층 -> 출력\n",
        "        self.linear_2 = torch.nn.Linear(self.hidden_size, 1)\n",
        "        # 이진분류 -> linear_1의 결과물을 받아서 -> 1개의 출력을 몰아줌 (0, 1)\n",
        "        self.sigmoid = torch.nn.Sigmoid() # 활성화 함수\n",
        "        # linear_1, relu, ... -> 함수처럼 쓰임\n",
        "    \n",
        "    # 가중치를 통해서 입력받은 값들을 변환하는 작업 : 순전파\n",
        "    def forward(self, input_tensor): # 학습에 쓰일 텐서 (데이터)\n",
        "        # init() 함수에서 정의된 동작들을 차례로 실행\n",
        "        # linear1 : 입력 데이터 (input_tensor)에 [input_size, hidden_size] 크기의 가중치를 행렬 곱\n",
        "        # 편향을 더해서 [1, hidden_size] 의 텐서를 반환\n",
        "        linear1 = self.linear_1(input_tensor)\n",
        "        relu = self.relu(linear1) # [1, hidden_size]\n",
        "        # linear2 : [1, 1] 모양으로 변환\n",
        "        linear2 = self.linear_2(relu)\n",
        "        output = self.sigmoid(linear2)\n",
        "        return output"
      ],
      "metadata": {
        "id": "_qsBH2KVC4rF"
      },
      "execution_count": null,
      "outputs": []
    },
    {
      "cell_type": "markdown",
      "source": [
        "### ReLU\n",
        "* ReLU : 입력값이 0보다 작으면 0을, 0보다 크면 입력값을 그대로 출력\n",
        "![ReLU](https://github.com/bigdata-young/ai_26th/raw/main/img/dl_01_05.jpg)"
      ],
      "metadata": {
        "id": "ZrUbMFF-aGO6"
      }
    },
    {
      "cell_type": "markdown",
      "source": [
        "### 시그모이드 sigmoid\n",
        "* 0과 1 사이의 값을 반환\n",
        "* 데이터를 0과 1 사이의 임의의 수로 제한해주어 결괏값이 0이나 1 중에 어디에 가까운지 알 수 있음\n",
        "![sigmoid](https://github.com/bigdata-young/ai_26th/raw/main/img/dl_01_06.jpg)"
      ],
      "metadata": {
        "id": "cN7u0PmrbMai"
      }
    },
    {
      "cell_type": "markdown",
      "source": [
        "## 모델링 진행"
      ],
      "metadata": {
        "id": "19XT8ecFYHlN"
      }
    },
    {
      "cell_type": "code",
      "source": [
        "x_train.shape # 행 80, 열 2 => 행은 데이터 하나하나를 의미 -> [x좌표, y좌표]"
      ],
      "metadata": {
        "colab": {
          "base_uri": "https://localhost:8080/"
        },
        "id": "2L8VuAyDcnDp",
        "outputId": "0cc0a1b8-0df9-4100-d063-65248e17b881"
      },
      "execution_count": null,
      "outputs": [
        {
          "output_type": "execute_result",
          "data": {
            "text/plain": [
              "torch.Size([80, 2])"
            ]
          },
          "metadata": {},
          "execution_count": 50
        }
      ]
    },
    {
      "cell_type": "code",
      "source": [
        "# 신경망 객체를 생성\n",
        "model = NeuralNet(2,5)# => 2개의 열을 5개의 특성으로 나눠서 분석하고 다시 줄일 예정\n",
        "# 입력 레이어 2개, 은닉 레이어 5개"
      ],
      "metadata": {
        "id": "zqoNUV_lchFU"
      },
      "execution_count": null,
      "outputs": []
    },
    {
      "cell_type": "code",
      "source": [
        "# 학습 관련 변수와 알고리즘 정의\n",
        "learning_rate = 0.03 # 학습률 설정\n",
        "# 평가함수? 오차함수? 손실 함수? => 예측값(모델의 결과) vs 실제값(라벨링, 정답값)\n",
        "criterion = torch.nn.BCELoss()# 이진 교차 엔트로피(binary cross entropy) # 분류, 회귀"
      ],
      "metadata": {
        "id": "3smv-xf9dFGC"
      },
      "execution_count": null,
      "outputs": []
    },
    {
      "cell_type": "code",
      "source": [
        "# 에포크(이폭, epoch) : 전체 학습 데이터를 총 몇 번 모델에 입력할지 결정\n",
        "epochs = 2000\n",
        "# 너무 작게 설정하면 모델이 충분히 학습되지 않을 수 있음               (언더피팅, 과소적합)\n",
        "# 너무 크게 설정하면 모델 학습이 오래 걸리고, 새로운 데이터에 적응 못함(오버피팅, 과적합)"
      ],
      "metadata": {
        "id": "0bWHmK27ipDV"
      },
      "execution_count": null,
      "outputs": []
    },
    {
      "cell_type": "code",
      "source": [
        "# 학습에 사용할 최적화 알고리즘 결정\n",
        "# 확률적 경사하강법 stochastic gradient descent (SGD)\n",
        "# 새 가중치  = 가중치 - 학습률 x 가중치에 대한 기울기\n",
        "optimizer = torch.optim.SGD(model.parameters(), lr=learning_rate)\n",
        "# optimizer.step() 함수를 호출할때마다 가중치를 학습률만큼 갱신\n",
        "# model.parameters() 함수로 모델 내부의 가중치를 추출 => 가중치, 학습률"
      ],
      "metadata": {
        "id": "l6r_v6EcjTHp"
      },
      "execution_count": null,
      "outputs": []
    },
    {
      "cell_type": "code",
      "source": [
        "# 아무 학습도 안 모델의 성능 시험\n",
        "model.eval() # eval (nn.Modula) -> 시험모드로 설정\n",
        "# 임의의 가중치\n",
        "# 모델의 결과값과 레이블값(정답값)의 차원을 맞추기 위해 squeeze() -> 오차구하기\n",
        "y_pred = model(x_test)\n",
        "y_pred.shape"
      ],
      "metadata": {
        "colab": {
          "base_uri": "https://localhost:8080/"
        },
        "id": "OGVCzTtEj4rI",
        "outputId": "4d363a92-18e0-45a1-95f8-d0c0b28ca014"
      },
      "execution_count": null,
      "outputs": [
        {
          "output_type": "execute_result",
          "data": {
            "text/plain": [
              "torch.Size([20, 1])"
            ]
          },
          "metadata": {},
          "execution_count": 58
        }
      ]
    },
    {
      "cell_type": "code",
      "source": [
        "y_test.shape"
      ],
      "metadata": {
        "colab": {
          "base_uri": "https://localhost:8080/"
        },
        "id": "mGGF39U3lOfC",
        "outputId": "4b32be96-4657-44e3-ca51-e874e3b30305"
      },
      "execution_count": null,
      "outputs": [
        {
          "output_type": "execute_result",
          "data": {
            "text/plain": [
              "torch.Size([20])"
            ]
          },
          "metadata": {},
          "execution_count": 59
        }
      ]
    },
    {
      "cell_type": "code",
      "source": [
        "# test_loss_before = criterion(y_pred.view(20), y_test)\n",
        "test_loss_before = criterion(y_pred.squeeze(), y_test)"
      ],
      "metadata": {
        "id": "geV1G-kNlQ7m"
      },
      "execution_count": null,
      "outputs": []
    },
    {
      "cell_type": "code",
      "source": [
        "print(f'학습 전 loss는 {test_loss_before.item()}')"
      ],
      "metadata": {
        "colab": {
          "base_uri": "https://localhost:8080/"
        },
        "id": "tJo6FxdmlggQ",
        "outputId": "f1991350-9d4a-48a3-e8ea-210d8584b6cb"
      },
      "execution_count": null,
      "outputs": [
        {
          "output_type": "stream",
          "name": "stdout",
          "text": [
            "학습 전 loss는 0.6675052046775818\n"
          ]
        }
      ]
    },
    {
      "cell_type": "markdown",
      "source": [
        "# 학습을 통한 성능 개선"
      ],
      "metadata": {
        "id": "cIiPM-wBlq36"
      }
    },
    {
      "cell_type": "code",
      "source": [
        "for epoch in range(epochs): # 2000번 돌리기\n",
        "    # 학습 모드로 전환\n",
        "    model.train()\n",
        "    \n",
        "    # 한 번 반복해주는 에포크마다, 새로운 경사값을 계산할 것이므로\n",
        "    # zero_grad() 함수를 호출해서 경사값(기울기)을 0으로 설정\n",
        "    optimizer.zero_grad() # 그 전 기울기가 저장 되어 있으므로 reset\n",
        "    # 학습 데이터를 입력해서 결과값을 개선\n",
        "    train_output = model(x_train) # x_train을 넣었을 때의 결과물\n",
        "    # nn.module -> 알아서 forward()를 호출해줌\n",
        "    \n",
        "    # 결과값의 차원과 레이블의 차원을 같게 만들고 오차를 계산\n",
        "    train_loss = criterion(train_output.squeeze(), y_train) # x_train -> 모델을 통해 나온 예측값 vs 실제 정답값 비교\n",
        "\n",
        "    # 100 에포크마다 오차를 출력해서 학습이 잘 되는지 확인 \n",
        "    if epoch % 100 == 0:\n",
        "        print(f\"train loss at {epoch} : {train_loss.item()}\")\n",
        "    \n",
        "    # 오차함수(손실함수)를 가중치로 미분하여 오차가 최소가 되는 방향을 구하고,\n",
        "    # 그 방향으로 모델을 학습률만큼 이동시킴 (오차 역전파)\n",
        "    train_loss.backward()\n",
        "    optimizer.step() # optimizer.step() 함수를 호출할 때마다 가중치를 학습률만큼 갱신"
      ],
      "metadata": {
        "colab": {
          "base_uri": "https://localhost:8080/"
        },
        "id": "D6O0nhTalpZ8",
        "outputId": "3d44b96d-7ccf-498a-e9ab-92aecd5ead04"
      },
      "execution_count": null,
      "outputs": [
        {
          "output_type": "stream",
          "name": "stdout",
          "text": [
            "train loss at 0 : 0.6694920659065247\n",
            "train loss at 100 : 0.6153150796890259\n",
            "train loss at 200 : 0.5307033061981201\n",
            "train loss at 300 : 0.43713825941085815\n",
            "train loss at 400 : 0.35193508863449097\n",
            "train loss at 500 : 0.28654927015304565\n",
            "train loss at 600 : 0.23749606311321259\n",
            "train loss at 700 : 0.20063945651054382\n",
            "train loss at 800 : 0.1723485291004181\n",
            "train loss at 900 : 0.15032634139060974\n",
            "train loss at 1000 : 0.13249237835407257\n",
            "train loss at 1100 : 0.11801816523075104\n",
            "train loss at 1200 : 0.10615333169698715\n",
            "train loss at 1300 : 0.09647516161203384\n",
            "train loss at 1400 : 0.08839667588472366\n",
            "train loss at 1500 : 0.08148392289876938\n",
            "train loss at 1600 : 0.07549023628234863\n",
            "train loss at 1700 : 0.07026401162147522\n",
            "train loss at 1800 : 0.06565500795841217\n",
            "train loss at 1900 : 0.06156923249363899\n"
          ]
        }
      ]
    },
    {
      "cell_type": "markdown",
      "source": [
        "# 학습 후 성능 측정"
      ],
      "metadata": {
        "id": "rNqSnoEGn0RC"
      }
    },
    {
      "cell_type": "code",
      "source": [
        "# 평가 모드로 바꾸기 + 테스트 데이터인 x_test & y_test를 통해 오차 구해보기\n",
        "model.eval() # evaluate\n",
        "test_loss = criterion(torch.squeeze(model(x_test)), y_test)\n",
        "print(f'학습 후 loss는 {test_loss.item()}')"
      ],
      "metadata": {
        "colab": {
          "base_uri": "https://localhost:8080/"
        },
        "id": "VLmrwn0dnWOs",
        "outputId": "92d65a76-4c07-4c43-b9ce-cb4460d4549e"
      },
      "execution_count": null,
      "outputs": [
        {
          "output_type": "stream",
          "name": "stdout",
          "text": [
            "학습 후 loss는 0.05896953493356705\n"
          ]
        }
      ]
    },
    {
      "cell_type": "code",
      "source": [
        "model.state_dict()"
      ],
      "metadata": {
        "colab": {
          "base_uri": "https://localhost:8080/"
        },
        "id": "iPGKqJ1So5Gl",
        "outputId": "75f75b43-97a6-45b2-d8f9-7582370457e1"
      },
      "execution_count": null,
      "outputs": [
        {
          "output_type": "execute_result",
          "data": {
            "text/plain": [
              "OrderedDict([('linear_1.weight', tensor([[ 0.4367,  0.7371],\n",
              "                      [ 2.1079, -1.3566],\n",
              "                      [-1.2344,  2.0863],\n",
              "                      [-0.1066,  0.2133],\n",
              "                      [ 1.4667,  1.0032]])),\n",
              "             ('linear_1.bias',\n",
              "              tensor([ 0.4093, -0.3903, -0.2420, -0.0009, -0.0478])),\n",
              "             ('linear_2.weight',\n",
              "              tensor([[-0.3693,  2.4072,  2.3623,  0.1530, -1.7317]])),\n",
              "             ('linear_2.bias', tensor([-2.1341]))])"
            ]
          },
          "metadata": {},
          "execution_count": 70
        }
      ]
    },
    {
      "cell_type": "code",
      "source": [
        "# 모델을 저장 -> 딥러닝에서 모델을 저장 -> 레이어마다의 가중치를 저장\n",
        "# model.state_dict() : 모델 내의 가중치들을 딕셔너리 형태\n",
        "# {연산 이름: 가중치 텐서와 편향 텐서}와 같이 표현된 데이터\n",
        "torch.save(model.state_dict(), './model.pt') # 코랩에 저장 - 옆에 보임"
      ],
      "metadata": {
        "id": "V5tGn646oFiG"
      },
      "execution_count": null,
      "outputs": []
    },
    {
      "cell_type": "code",
      "source": [
        "from google.colab import files\n",
        "\n",
        "files.download('./model.pt') #파일로 직접 다운"
      ],
      "metadata": {
        "id": "7B9Os8KBo6U6"
      },
      "execution_count": null,
      "outputs": []
    },
    {
      "cell_type": "code",
      "source": [
        "# 사용하려고 하는 모델 자체는 직접 구현 (Class 선언)\n",
        "new_model = NeuralNet(2, 5) # 아까 만든 model과는 다른 객체\n",
        "# .load_state_dict -> 이미 학습된 모델의 가중치를 적용\n",
        "new_model.load_state_dict(torch.load('./model.pt'))"
      ],
      "metadata": {
        "colab": {
          "base_uri": "https://localhost:8080/"
        },
        "id": "zdbWP64hpIl5",
        "outputId": "8b46a215-cb80-4746-ffde-c0dafde44aa4"
      },
      "execution_count": null,
      "outputs": [
        {
          "output_type": "execute_result",
          "data": {
            "text/plain": [
              "<All keys matched successfully>"
            ]
          },
          "metadata": {},
          "execution_count": 75
        }
      ]
    },
    {
      "cell_type": "code",
      "source": [
        "new_model.eval()\n",
        "new_model(torch.FloatTensor([-1,1])) # 벡터 [-1, 1] -> 레이블 1이 될 확률"
      ],
      "metadata": {
        "colab": {
          "base_uri": "https://localhost:8080/"
        },
        "id": "g-YmCGXWpW7U",
        "outputId": "8ab67105-5f7a-4eed-8096-4c1089dac8f8"
      },
      "execution_count": null,
      "outputs": [
        {
          "output_type": "execute_result",
          "data": {
            "text/plain": [
              "tensor([0.9928], grad_fn=<SigmoidBackward0>)"
            ]
          },
          "metadata": {},
          "execution_count": 76
        }
      ]
    },
    {
      "cell_type": "code",
      "source": [],
      "metadata": {
        "id": "rMbuDZ96qHlE"
      },
      "execution_count": null,
      "outputs": []
    }
  ]
}